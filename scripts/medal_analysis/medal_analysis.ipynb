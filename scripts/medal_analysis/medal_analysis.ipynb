{
 "cells": [
  {
   "cell_type": "code",
   "execution_count": 69,
   "id": "2f89755a",
   "metadata": {},
   "outputs": [],
   "source": [
    "import pandas as pd\n",
    "import os\n",
    "import glob"
   ]
  },
  {
   "cell_type": "code",
   "execution_count": 67,
   "id": "1dab1e68",
   "metadata": {},
   "outputs": [],
   "source": [
    "def years_prep(years, summer):\n",
    "    years['Host City, Country'] = years['Host City, Country'].str.split(',')\n",
    "    years['Country'] = years['Host City, Country'].apply(lambda x: x[-1]) # Extracting host country name\n",
    "    years.drop(['Olympiad', 'Host City, Country'], axis = 1, inplace = True)\n",
    "\n",
    "    # Matching country name format in years and medals file\n",
    "    years.loc[years['Country'] == \" USA\", 'Country'] = 'United States'\n",
    "    years.loc[years['Country'] == \" UK\", 'Country'] = 'United Kingdom'\n",
    "    years.loc[years['Country'] == \" USSR\", 'Country'] = 'Russia'\n",
    "\n",
    "    years.loc[years['Year'] == 2021, 'Year'] = 2020 # Tokyo Olympics year postpone adjustment \n",
    "    years['Country'] = years['Country'].str.strip()\n",
    "    if summer:\n",
    "        years.drop([6, 12, 13], axis=0, inplace=True) # Olympics scheduled but not held\n",
    "    return years\n",
    "    \n",
    "years_summer = pd.read_csv(r'data\\olympics years - summer.csv')\n",
    "years_summer = years_prep(years_summer, 1)\n",
    "\n",
    "years_winter = pd.read_csv(r'data\\olympics years - winter.csv')\n",
    "years_winter = years_prep(years_winter, 0)"
   ]
  },
  {
   "cell_type": "code",
   "execution_count": 68,
   "id": "cc8e55b7",
   "metadata": {},
   "outputs": [],
   "source": [
    "path_winter = r'\\..\\..\\data\\medals\\winter'\n",
    "path_summer = r'\\..\\..\\data\\medals\\summer'\n",
    "\n",
    "\n",
    "def produce_data(path, years):\n",
    "    csv_files = glob.glob(os.path.join(path, \"*.csv\"))\n",
    "    data = pd.DataFrame(columns=['country', 'country_code', 'gold', 'silver', 'bronze', 'total'])\n",
    "    for f in csv_files:\n",
    "        df = pd.read_csv(f)\n",
    "        df['Host'] = 0\n",
    "\n",
    "        year = f[-8:-4]\n",
    "        df['year'] = year\n",
    "        host_country = years.loc[years['Year'] == int(year), 'Country']\n",
    "        indx = df.index[df['country'] == host_country.item()]\n",
    "        if(len(indx)>0):\n",
    "            df.loc[indx[0], 'Host'] = 1\n",
    "        data = pd.concat([data, df], ignore_index=True)\n",
    "    return data\n",
    "\n",
    "data_1 = produce_data(path_winter, years_winter)\n",
    "data_2 = produce_data(path_summer, years_summer)\n",
    "data = pd.concat([data_1, data_2], ignore_index=True)"
   ]
  },
  {
   "cell_type": "code",
   "execution_count": 45,
   "id": "74d66abb",
   "metadata": {},
   "outputs": [],
   "source": [
    "# over the years country name change\n",
    "data.loc[data['country'] == \"Great Britain\", 'country'] = 'United Kingdom'\n",
    "data.loc[data['country'] == \"Russian Federation\", 'country'] = 'Russia'\n",
    "data.loc[data['country'] == \"Hong Kong, China\", 'country'] = 'China'\n",
    "data.loc[data['country'] == \"People's Republic of China\", 'country'] = 'China'\n",
    "data.loc[data['country'] == \"West Germany\", 'country'] = 'Germany'\n",
    "data.loc[data['country'] == \"East Germany\", 'country'] = 'Germany'\n",
    "data.loc[data['country'] == \"Soviet Union\", 'country'] = 'Russia'\n",
    "data.loc[data['country'] == \"Australasia\", 'country'] = 'Australia'\n",
    "data.loc[data['country'] == \"Chinese Taipei\", 'country'] = 'China'"
   ]
  },
  {
   "cell_type": "code",
   "execution_count": null,
   "id": "d9c5cade",
   "metadata": {
    "pycharm": {
     "is_executing": true
    }
   },
   "outputs": [],
   "source": [
    "gkk = data.groupby(['country', 'Host'])['total'].agg(['sum', 'count', 'mean'])\n",
    "gkk = gkk.reset_index()\n",
    "medals_mean = gkk.pivot(index='country', columns='Host', values='mean')\n",
    "df = medals_mean[medals_mean[1.0].notna()]\n",
    "df[0.0] = df[0.0].round()\n",
    "df[1.0] = df[1.0].round()\n",
    "df = df.rename(columns={0.0: 'Not_Host', 1.0: 'Host'})\n",
    "df.plot.bar()"
   ]
  },
  {
   "cell_type": "code",
   "execution_count": null,
   "id": "8f3f03aa",
   "metadata": {
    "pycharm": {
     "is_executing": true
    }
   },
   "outputs": [],
   "source": [
    "gkk = data.groupby(['year', 'Host'])['total'].agg(['sum', 'count', 'max'])\n",
    "gkk = gkk.reset_index()\n",
    "medals_mean = gkk.pivot(index='year', columns='Host', values='max')\n",
    "df = medals_mean[medals_mean[1.0].notna()]\n",
    "\n",
    "df[0.0] = df[0.0].round()\n",
    "df[1.0] = df[1.0].round()\n",
    "df = df.rename(columns={0.0: 'Not_Host', 1.0: 'Host'})\n",
    "df.plot.bar()"
   ]
  }
 ],
 "metadata": {
  "kernelspec": {
   "display_name": "Python 3 (ipykernel)",
   "language": "python",
   "name": "python3"
  },
  "language_info": {
   "codemirror_mode": {
    "name": "ipython",
    "version": 3
   },
   "file_extension": ".py",
   "mimetype": "text/x-python",
   "name": "python",
   "nbconvert_exporter": "python",
   "pygments_lexer": "ipython3",
   "version": "3.9.7"
  }
 },
 "nbformat": 4,
 "nbformat_minor": 5
}