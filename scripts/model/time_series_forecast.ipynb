{
  "cells": [
    {
      "cell_type": "markdown",
      "metadata": {
        "id": "IpoNFYpWfHlW"
      },
      "source": [
        "# Economic Variable Analysis and Modeling"
      ]
    },
    {
      "cell_type": "code",
      "source": [
        "#!pip install prophet"
      ],
      "metadata": {
        "id": "Ung3UyjP5Isv"
      },
      "execution_count": null,
      "outputs": []
    },
    {
      "cell_type": "code",
      "source": [
        "from prophet import Prophet"
      ],
      "metadata": {
        "id": "g14ezK366Ksv"
      },
      "execution_count": 3,
      "outputs": []
    },
    {
      "cell_type": "code",
      "execution_count": null,
      "metadata": {
        "id": "6AYeNQmlfHlb"
      },
      "outputs": [],
      "source": [
        "# Install the World Bank API to access the world bank data \n",
        "!pip install wbgapi\n",
        "\n",
        "import wbgapi as wb\n",
        "import pandas as pd\n",
        "import numpy as np\n",
        "import warnings\n",
        "warnings.filterwarnings(\"ignore\")"
      ]
    },
    {
      "cell_type": "code",
      "source": [
        "from google.colab import drive\n",
        "drive.mount('/content/drive', force_remount=True)\n",
        "\n",
        "summer = '/content/drive/MyDrive/bd2/summer.csv'\n",
        "winter = '/content/drive/MyDrive/bd2/winter.csv'"
      ],
      "metadata": {
        "id": "IzDQcVSxfPi0"
      },
      "execution_count": null,
      "outputs": []
    },
    {
      "cell_type": "markdown",
      "source": [
        "Forecasting Future Indicatro data for providing it as model inputs."
      ],
      "metadata": {
        "id": "__kpD9gqokm4"
      }
    },
    {
      "cell_type": "code",
      "source": [
        "{'NY.GDP.PCAP.CD':'GDP Per Capita', 'ST.INT.ARVL':'Tourism Arrival', 'NY.GDP.DEFL.KD.ZG':'Inflation',\n",
        "                      'PA.NUS.FCRF':'Exchange Rate', 'GC.DOD.TOTL.GD.ZS':'Debt', 'NY.GDP.MKTP.KD.ZG':'GDP Growth',\n",
        "                      'NE.TRD.GNFS.ZS':'Trade', 'NE.IMP.GNFS.ZS':'Import Goods', 'GC.TAX.TOTL.GD.ZS':'Tax Revenue',\n",
        "                      'CM.MKT.TRAD.GD.ZS':'Stocks', 'BX.KLT.DINV.WD.GD.ZS':'Foreign Investments',\n",
        "                      'NE.DAB.TOTL.ZS': 'Gross National Expenditure', 'GC.REV.XGRT.GD.ZS':'Revenue',\n",
        "                      'SL.IND.EMPL.ZS':'Employment', 'SL.UEM.TOTL.NE.ZS':'Unemployment'}"
      ],
      "metadata": {
        "id": "i0ovoo4BfSeN"
      },
      "execution_count": null,
      "outputs": []
    },
    {
      "cell_type": "code",
      "source": [
        "import pandas as pd\n",
        "\n",
        "economic_variables = {'NY.GDP.PCAP.CD':'GDP Per Capita'}\n",
        "        \n",
        "def get_indicator_data(indicator):\n",
        "  eco_df = wb.data.DataFrame(indicator, skipAggs=True)\n",
        "  eco_df = eco_df.rename(columns=lambda x: int(x.replace('YR', '')))\n",
        "  eco_df = eco_df.transpose().fillna(method='backfill').fillna(method='ffill')\n",
        "  eco_df.dropna(inplace=True, axis=1)\n",
        "  return eco_df\n",
        "\n",
        "def get_forecast_data(country_series, colname):\n",
        "  df = country_series.reset_index().rename(columns={'index':'ds', colname:'y'})\n",
        "  future_years = [i for i in range(2020, 2051)]\n",
        "  df['ds'] = pd.to_datetime(df['ds'], format='%Y')\n",
        "\n",
        "  my_model = Prophet(interval_width=0.95)\n",
        "  my_model.fit(df)\n",
        "  future_dates = my_model.make_future_dataframe(periods=31, freq='Y')\n",
        "  forecast_df= my_model.predict(future_dates)\n",
        "\n",
        "  forecast_df['ds'] = pd.DatetimeIndex(forecast_df['ds']).year\n",
        "  selected_df = forecast_df.drop_duplicates(subset=['ds'], keep='first')\n",
        "  selected_df = selected_df.set_index('ds').rename(columns={'yhat':colname})\n",
        "  selected_df = selected_df.loc[future_years]\n",
        "\n",
        "  return selected_df[colname]\n",
        "\n",
        "def main():\n",
        "  global economic_variables\n",
        "  path = \"/model_input_data/\"\n",
        "\n",
        "  for key, value in economic_variables.items():\n",
        "    df = get_indicator_data(key)\n",
        "    forecast_df = pd.DataFrame()\n",
        "\n",
        "    for val in df.columns:\n",
        "        forecast_series = get_forecast_data(df[val], val)\n",
        "        forecast_df = forecast_df.append(forecast_series, ignore_index=False)\n",
        "\n",
        "    forecast_df.to_csv('/content/drive/MyDrive/bd2/' + value + \".csv\") \n",
        "\n",
        "if __name__ == '__main__':\n",
        "  main()"
      ],
      "metadata": {
        "id": "sMP3OSIp7aKp"
      },
      "execution_count": null,
      "outputs": []
    }
  ],
  "metadata": {
    "kernelspec": {
      "display_name": "tf-gpu-cuda",
      "language": "python",
      "name": "tf-gpu-cuda"
    },
    "language_info": {
      "codemirror_mode": {
        "name": "ipython",
        "version": 3
      },
      "file_extension": ".py",
      "mimetype": "text/x-python",
      "name": "python",
      "nbconvert_exporter": "python",
      "pygments_lexer": "ipython3",
      "version": "3.7.11"
    },
    "colab": {
      "name": "Time_Series_Forecast.ipynb",
      "provenance": [],
      "collapsed_sections": []
    }
  },
  "nbformat": 4,
  "nbformat_minor": 0
}