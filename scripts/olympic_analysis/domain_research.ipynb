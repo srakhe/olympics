{
 "cells": [
  {
   "cell_type": "markdown",
   "metadata": {},
   "source": [
    "# Exploratory Data Analysis of Olympics Hosting Countries"
   ]
  },
  {
   "cell_type": "code",
   "execution_count": null,
   "metadata": {
    "scrolled": true
   },
   "outputs": [],
   "source": [
    "# For exporting Plotly Plots.\n",
    "# !pip install -U kaleido"
   ]
  },
  {
   "cell_type": "code",
   "execution_count": 8,
   "metadata": {},
   "outputs": [],
   "source": [
    "# Import Statements\n",
    "from datetime import date\n",
    "\n",
    "import numpy as np\n",
    "import pandas as pd\n",
    "from ast import literal_eval\n",
    "import re\n",
    "import os\n",
    "\n",
    "# Visualization libraries\n",
    "import plotly.express as px\n",
    "from plotly.subplots import make_subplots\n",
    "import plotly.graph_objects as go\n",
    "\n",
    "import matplotlib.pyplot as plt\n",
    "import seaborn as sns\n",
    "sns.set_theme(style=\"darkgrid\")\n",
    "sns.set(rc = {'figure.figsize':(16, 8)})\n",
    "\n",
    "import warnings\n",
    "warnings.filterwarnings('ignore')"
   ]
  },
  {
   "cell_type": "markdown",
   "metadata": {},
   "source": [
    "## Importing datasets"
   ]
  },
  {
   "cell_type": "code",
   "execution_count": 2,
   "metadata": {},
   "outputs": [],
   "source": [
    "# Olympic games related data set\n",
    "summer_olympics_data = pd.read_csv(\"Datasets/summer.csv\") \n",
    "winter_olympics_data = pd.read_csv(\"Datasets/winter.csv\")\n",
    "\n",
    "# Olympics costs related data set\n",
    "olympics_costs = pd.read_csv(\"Datasets/olympicscosts.csv\")\n",
    "cost_revenue = pd.read_csv(\"Datasets/cost_revenue.csv\")\n",
    "broadcast_revenue = pd.read_csv('Datasets/broadcastrevenue.csv')\n",
    "\n",
    "# Country related data set\n",
    "country_codes = pd.read_csv('Datasets/countries.csv')\n",
    "medal_data = pd.read_csv('Datasets/medals.csv')\n",
    "\n",
    "# Olympics Bid Datasets\n",
    "winter_bid_year_df = pd.read_csv('Datasets/winterbidbyyear.csv')\n",
    "winter_bid_country_df = pd.read_csv('Datasets/winterbidbycountry.csv')\n",
    "summer_bid_country_df = pd.read_csv('Datasets/summerbidbycountry.csv')\n",
    "summer_bid_year_df = pd.read_csv('Datasets/summerbidbyyear.csv')"
   ]
  },
  {
   "cell_type": "code",
   "execution_count": null,
   "metadata": {
    "pycharm": {
     "is_executing": true
    }
   },
   "outputs": [],
   "source": [
    "display(summer_olympics_data.head())"
   ]
  },
  {
   "cell_type": "code",
   "execution_count": null,
   "metadata": {
    "pycharm": {
     "is_executing": true
    }
   },
   "outputs": [],
   "source": [
    "display(winter_olympics_data.head())"
   ]
  },
  {
   "cell_type": "code",
   "execution_count": null,
   "metadata": {
    "pycharm": {
     "is_executing": true
    }
   },
   "outputs": [],
   "source": [
    "display(country_codes.head())"
   ]
  },
  {
   "cell_type": "code",
   "execution_count": 3,
   "metadata": {
    "scrolled": false
   },
   "outputs": [],
   "source": [
    "# Save the EDA results in this directory\n",
    "results_dir = './results/'\n",
    "if not os.path.exists(results_dir):\n",
    "    os.mkdir(results_dir)"
   ]
  },
  {
   "cell_type": "code",
   "execution_count": 4,
   "metadata": {},
   "outputs": [],
   "source": [
    "# Economic Indicators Data \n",
    "economic_variables = {'NY.GDP.MKTP.CD':'GDP', 'ST.INT.ARVL':'Tourism Arrival', 'NY.GDP.DEFL.KD.ZG':'Inflation',\n",
    "                      'PA.NUS.FCRF':'Exchange Rate', 'GC.DOD.TOTL.GD.ZS':'Debt', 'NY.GDP.MKTP.KD.ZG':'GDP Growth',\n",
    "                      'NE.TRD.GNFS.ZS':'Trade', 'NE.IMP.GNFS.ZS':'Import Goods', 'GC.TAX.TOTL.GD.ZS':'Tax Revenue',\n",
    "                      'CM.MKT.TRAD.GD.ZS':'Stocks', 'BX.KLT.DINV.WD.GD.ZS':'Foreign Investments',\n",
    "                      'NE.DAB.TOTL.ZS': 'Gross National Expenditure', 'GC.REV.XGRT.GD.ZS':'Revenue',\n",
    "                      'SL.IND.EMPL.ZS':'Employment', 'SL.UEM.TOTL.NE.ZS':'Unemployment'}"
   ]
  },
  {
   "cell_type": "markdown",
   "metadata": {},
   "source": [
    "## Data Preprocessing"
   ]
  },
  {
   "cell_type": "code",
   "execution_count": 5,
   "metadata": {},
   "outputs": [],
   "source": [
    "# Map to fix the country code mismatch\n",
    "alias_names = {'GER':'DEU', 'FRG':'DEU', 'NED':'NLD', 'SUI':'CHE', 'YUG':'SRB', 'URS':'RUS', 'GRE':'GRC'}\n",
    "\n",
    "# List of Column names\n",
    "drop_cols = ['Unnamed: 0', 'edition_code', 'edition']\n",
    "col_name = [\"Cost, Billion USD\", \"Cost Overrun %\", \"Country\"]\n",
    "year_list = [i for i in range(1960, 2021)]\n",
    "\n",
    "# Dropping Unnecessary columns\n",
    "country_codes.drop(columns=drop_cols[0], inplace=True)\n",
    "summer_olympics_data.drop(drop_cols, axis=1, inplace=True)\n",
    "winter_olympics_data.drop(drop_cols, axis=1, inplace=True)\n",
    "\n",
    "# Dropping olympic games(rows) that were not conducted\n",
    "winter_olympics_data.dropna(inplace=True)\n",
    "summer_olympics_data.dropna(inplace=True)\n",
    "\n",
    "# Replacing country code mismatch\n",
    "summer_olympics_data = summer_olympics_data.replace(alias_names)\n",
    "winter_olympics_data = winter_olympics_data.replace(alias_names)\n",
    "country_codes = country_codes.replace(alias_names)\n",
    "\n",
    "summer_olympics_data = summer_olympics_data.merge(country_codes, on='country_code').drop_duplicates(subset=['country_code', 'year'])\n",
    "winter_olympics_data = winter_olympics_data.merge(country_codes, on='country_code').drop_duplicates(subset=['country_code', 'year'])"
   ]
  },
  {
   "cell_type": "markdown",
   "metadata": {},
   "source": [
    "## Q1. Which countries have hosted Olympics and how many times?"
   ]
  },
  {
   "cell_type": "code",
   "execution_count": null,
   "metadata": {
    "pycharm": {
     "is_executing": true
    }
   },
   "outputs": [],
   "source": [
    "# Number of times each countries hosted the olympics\n",
    "summer_count = summer_olympics_data.groupby(['country_name'])['year'].count() \n",
    "winter_count = winter_olympics_data.groupby(['country_name'])['year'].count()\n",
    "\n",
    "# Summer Olympics\n",
    "def freq_plot(data, text):\n",
    "    plot_one = sns.barplot(x=data.index, y=data.values)\n",
    "    plot_one.set_xticklabels(plot_one.get_xticklabels(),rotation = 90)\n",
    "    plot_one.set_title(text + ' Olympics held by Countries')\n",
    "    plot_one.set_xlabel('Country')\n",
    "    plot_one.set_ylabel('Count')\n",
    "    plt.show()\n",
    "    freq_fig = plot_one.get_figure()\n",
    "    freq_fig.savefig(results_dir + text + '-' + 'count.png')\n",
    "    \n",
    "freq_plot(summer_count, 'Summer')\n",
    "freq_plot(winter_count, 'Winter')"
   ]
  },
  {
   "cell_type": "markdown",
   "metadata": {},
   "source": [
    "## Q2. How many countries have hosted Olympics till now?"
   ]
  },
  {
   "cell_type": "code",
   "execution_count": null,
   "metadata": {
    "pycharm": {
     "is_executing": true
    }
   },
   "outputs": [],
   "source": [
    "summer_hosts = winter_olympics_data['country_code'].unique()\n",
    "winter_hosts = summer_olympics_data['country_code'].unique()\n",
    "\n",
    "distinct_countries = [*summer_hosts, *winter_hosts]\n",
    "countries_set = set(distinct_countries)\n",
    "\n",
    "print(\"\\nNumber of Countries hosted Olympics: \", len(countries_set))"
   ]
  },
  {
   "cell_type": "markdown",
   "metadata": {},
   "source": [
    "## Q3. What are the top 10 expensive olympic games conducted till date?"
   ]
  },
  {
   "cell_type": "code",
   "execution_count": null,
   "metadata": {
    "scrolled": false,
    "pycharm": {
     "is_executing": true
    }
   },
   "outputs": [],
   "source": [
    "olympics_costs[col_name[0]] = olympics_costs[col_name[0]].astype(float).fillna(olympics_costs[col_name[0]].median())\n",
    "expensive_olympics = olympics_costs.sort_values(col_name[0], ascending=False).nlargest(10, col_name[0])\n",
    "\n",
    "plot_two = sns.barplot(x=col_name[0], y=col_name[2], data=expensive_olympics, ci=None)\n",
    "plot_two.set_title('Expensive Olympic games in both seasons')\n",
    "expensive_games = plot_two.get_figure()\n",
    "expensive_games.savefig(results_dir + 'expensive-games.png')"
   ]
  },
  {
   "cell_type": "markdown",
   "metadata": {},
   "source": [
    "## Q4. Comparision between Summer & Winter Olympics costs over the years"
   ]
  },
  {
   "cell_type": "code",
   "execution_count": null,
   "metadata": {
    "scrolled": false,
    "pycharm": {
     "is_executing": true
    }
   },
   "outputs": [],
   "source": [
    "plot_three = sns.lineplot(data=olympics_costs, x=\"Year\", y=col_name[0], hue=\"Type\", marker='o')\n",
    "plot_three.set_title('Cost of Olympic games over the years')\n",
    "cost_time_series = plot_three.get_figure()\n",
    "cost_time_series.savefig(results_dir + 'cost-over-years.png')"
   ]
  },
  {
   "cell_type": "markdown",
   "metadata": {},
   "source": [
    "## Q5. Which is the most Expensive Summer and Winter Game?"
   ]
  },
  {
   "cell_type": "code",
   "execution_count": null,
   "metadata": {
    "pycharm": {
     "is_executing": true
    }
   },
   "outputs": [],
   "source": [
    "summer_games = olympics_costs[olympics_costs['Type']=='Summer']\n",
    "winter_games = olympics_costs[olympics_costs['Type']=='Winter']\n",
    "\n",
    "expensive_summer = summer_games[summer_games[col_name[0]] == summer_games[col_name[0]].max()]\n",
    "expensive_winter = winter_games[winter_games[col_name[0]] == winter_games[col_name[0]].max()]\n",
    "\n",
    "print(\"\\nMost Expensive Summer Olympic game : {}, Cost in Billions : {}\".format(expensive_summer['Games'].iloc[0],\\\n",
    "                                                                                expensive_summer[col_name[0]].iloc[0]))\n",
    "print(\"\\nMost Expensive Winter Olympic game : {}, Cost in Billions : {}\".format(expensive_winter['Games'].iloc[0],\\\n",
    "                                                                                expensive_winter[col_name[0]].iloc[0]))"
   ]
  },
  {
   "cell_type": "markdown",
   "metadata": {},
   "source": [
    "## Q6. Are Winter Games costlier than Summer Games?"
   ]
  },
  {
   "cell_type": "code",
   "execution_count": null,
   "metadata": {
    "pycharm": {
     "is_executing": true
    }
   },
   "outputs": [],
   "source": [
    "plot_four = sns.boxplot(x='Type', y=col_name[0], data=olympics_costs, showmeans=True,\n",
    "            meanprops={\"marker\": \"o\",\n",
    "                       \"markerfacecolor\":\"Red\",\n",
    "                       \"markeredgecolor\": \"Red\",\n",
    "                       \"markersize\": \"10\"})\n",
    "plot_four.set_title('Cost comparision of Olympic games')\n",
    "plt.show()\n",
    "\n",
    "cost_comparsion = plot_four.get_figure()\n",
    "cost_comparsion.savefig(results_dir + 'cost-comparision.png')"
   ]
  },
  {
   "cell_type": "markdown",
   "metadata": {},
   "source": [
    "## Q7. Olympic Cities - Total Revenue vs Profit or Loss"
   ]
  },
  {
   "cell_type": "code",
   "execution_count": null,
   "metadata": {
    "pycharm": {
     "is_executing": true
    }
   },
   "outputs": [],
   "source": [
    "sel_cols = ['City', 'Game','Year','Revenue', 'ProfitorLoss', 'Cost']\n",
    "\n",
    "# Data Preprocessing\n",
    "clean_data = cost_revenue.dropna()\n",
    "\n",
    "clean_data[sel_cols[3]] = clean_data[sel_cols[3]].str.replace(\",\", \"\")\n",
    "clean_data[sel_cols[4]] = clean_data[sel_cols[4]].str.replace(\",\",\"\")\n",
    "clean_data[sel_cols[5]] = clean_data[sel_cols[5]].str.replace(\",\",\"\")\n",
    "\n",
    "convert_dict = {sel_cols[3]: 'int64',sel_cols[4]: 'int64', sel_cols[5]: 'int64'}\n",
    "clean_data = clean_data.astype(convert_dict)\n",
    "\n",
    "clean_data[sel_cols[4]] = clean_data[sel_cols[3]] - clean_data[sel_cols[5]]   \n",
    "clean_data[sel_cols[3:6]] = clean_data[sel_cols[3:6]] / 10**9\n",
    "\n",
    "# Plotting the data\n",
    "summer_revenue_data = clean_data[clean_data['Game'] == 'Summer'][sel_cols]\n",
    "winter_revenue_data = clean_data[clean_data['Game'] == 'Winter'][sel_cols]\n",
    "\n",
    "def plot_chart(df, cols, text):\n",
    "    df.plot(x=cols[0], y=cols[1:], kind=\"line\", marker='o')\n",
    "    plt.xlabel(\"Year\")\n",
    "    plt.ylabel(\"Cost in Billions\")\n",
    "    plt.title(text + \" Olympic Game Revenue vs Profit/Loss\")\n",
    "    plt.savefig(results_dir + text + '-profit-loss.png')\n",
    "    plt.show()\n",
    "\n",
    "plot_chart(summer_revenue_data, sel_cols[2:5] ,'Summer')\n",
    "plot_chart(winter_revenue_data, sel_cols[2:5] ,'Winter')"
   ]
  },
  {
   "cell_type": "markdown",
   "metadata": {},
   "source": [
    "## Q8. Broadcast Revenue Analysis"
   ]
  },
  {
   "cell_type": "code",
   "execution_count": null,
   "metadata": {
    "pycharm": {
     "is_executing": true
    }
   },
   "outputs": [],
   "source": [
    "# Data Preprocessing\n",
    "replace_values = {\"K\":\"000\", \"M\":\"000000\", \"B\":\"000000000\"}\n",
    "broadcast_revenue['Broadcast Revenue'] = broadcast_revenue['Broadcast Revenue'].replace(replace_values, regex=True)\n",
    "\n",
    "def convert_string(value):\n",
    "    value = str(value).replace('$', \"\")\n",
    "    substr = \".\"\n",
    "    if substr in value:\n",
    "        value = value.replace(substr, \"\").replace(\"0\",\"\",1)\n",
    "    return int(value)/10**9\n",
    "\n",
    "broadcast_revenue['Broadcast Revenue'] = broadcast_revenue['Broadcast Revenue'].apply(convert_string)\n",
    "sel_cols = ['Year', 'Broadcast Revenue']\n",
    "\n",
    "# Analysis and plotting\n",
    "summer_filtered = broadcast_revenue[broadcast_revenue['Game Type'] == 'Summer'][sel_cols]\n",
    "winter_filtered = broadcast_revenue[broadcast_revenue['Game Type'] == 'Winter'][sel_cols]\n",
    "\n",
    "fig, (ax1, ax2) = plt.subplots(1, 2)\n",
    "\n",
    "def plot_revenue_chart(df, cols, ax, text):\n",
    "    ax.set_title(text + ' games broadcast revenue over the years')\n",
    "    ax.stem(df[cols[0]], df[cols[1]])\n",
    "    ax.set_xlabel('Years')\n",
    "    ax.set_ylabel('Cost in Billions')\n",
    "    fig.show()\n",
    "\n",
    "plot_revenue_chart(summer_filtered, sel_cols, ax1,'Summer')\n",
    "plot_revenue_chart(winter_filtered, sel_cols, ax2,'Winter')\n",
    "fig.savefig(results_dir + 'broadcast-revenue.png')"
   ]
  },
  {
   "cell_type": "markdown",
   "metadata": {},
   "source": [
    "# Olympics Bid Analysis"
   ]
  },
  {
   "cell_type": "markdown",
   "metadata": {},
   "source": [
    "## Q9. Are the Countries interested in hosting Olympics in recent times?"
   ]
  },
  {
   "cell_type": "code",
   "execution_count": null,
   "metadata": {
    "pycharm": {
     "is_executing": true
    }
   },
   "outputs": [],
   "source": [
    "def plot_bid_countries(df, text):\n",
    "    df.groupby(['Bid_Year'])['Bid_Country'].nunique().plot(kind='bar', xlabel='Bid Year',\n",
    "                                                                       ylabel='Count', \n",
    "                                                                       figsize=(15,5),\n",
    "                                                                       title = 'Number of Bidding Countries over the years for hosting ' + text +' Olympics')\n",
    "    plt.savefig(results_dir + text + '-bidcount.png')\n",
    "    plt.show()\n",
    "\n",
    "plot_bid_countries(summer_bid_year_df, 'Summer')\n",
    "plot_bid_countries(winter_bid_year_df, 'Winter')"
   ]
  },
  {
   "cell_type": "markdown",
   "metadata": {},
   "source": [
    "## Q10. Countries Participation in Bidding process for all the years"
   ]
  },
  {
   "cell_type": "code",
   "execution_count": null,
   "metadata": {
    "pycharm": {
     "is_executing": true
    }
   },
   "outputs": [],
   "source": [
    "fig, (ax1, ax2) = plt.subplots(1, 2)\n",
    "\n",
    "def plot_donut(df, axis, text):\n",
    "    df.groupby(['Bid_Country'])['Bid_Year'].nunique().nlargest(15, keep='first').plot(kind='pie',\n",
    "                                                                                  ax=axis,\n",
    "                                                                                  y='Bid_Year',\n",
    "                                                                                  ylabel=\"\",\n",
    "                                                                                  subplots=True,\n",
    "                                                                                  figsize=(10,10),\n",
    "                                                                                  autopct='%1.0f%%')\n",
    "    axis.add_patch(plt.Circle( (0,0), 0.7, color='white'))\n",
    "    axis.set_title('Country participation in ' + text +' Bidding process for all the years.')\n",
    "\n",
    "plot_donut(summer_bid_year_df, ax1, 'Summer')\n",
    "plot_donut(winter_bid_year_df, ax2,'Winter')\n",
    "fig.savefig(results_dir + 'country-participation.png')\n",
    "fig.show()"
   ]
  },
  {
   "cell_type": "markdown",
   "metadata": {},
   "source": [
    "## Q11. Bidding Outcome Analysis"
   ]
  },
  {
   "cell_type": "code",
   "execution_count": null,
   "metadata": {
    "scrolled": false,
    "pycharm": {
     "is_executing": true
    }
   },
   "outputs": [],
   "source": [
    "fig, axes = plt.subplots(1,2)\n",
    "\n",
    "# Data Preprocessing\n",
    "def evaluate(strinput):\n",
    "    data = literal_eval(str(strinput))\n",
    "    return data\n",
    "\n",
    "def flatten_inputs(inputlist):\n",
    "    flat_list = [listitem for sublist in inputlist for listitem in sublist]\n",
    "    return flat_list\n",
    "\n",
    "def process_df(df):\n",
    "    cols = df.columns\n",
    "    for colindex in cols[2:]:\n",
    "        df[colindex] = df[colindex].apply(evaluate)\n",
    "    flatten_df = df.groupby(cols[0])[cols[2:]].agg(flatten_inputs)\n",
    "    for col in cols[2:]:\n",
    "        flatten_df[col] = flatten_df[col].apply(lambda x : len(x))\n",
    "    return flatten_df\n",
    "\n",
    "# Plotting Data\n",
    "def plot_data(inputdf, axis, text):\n",
    "    axes[axis].bar(inputdf.index, inputdf['Failed_Bids'], color='r',  label='Failed')\n",
    "    axes[axis].bar(inputdf.index, inputdf['Success_Bids'], color='b',  bottom=inputdf['Failed_Bids'], label='Success')\n",
    "    axes[axis].set_ylabel('Count')\n",
    "    axes[axis].set_xlabel('Country')\n",
    "    axes[axis].set_title(text + ' - Failed and Success')\n",
    "    axes[axis].set_xticklabels(inputdf.index, rotation=90)\n",
    "    axes[axis].legend()\n",
    "    fig.show()\n",
    "\n",
    "plot_data(process_df(summer_bid_country_df), 0, 'Summer')\n",
    "plot_data(process_df(winter_bid_country_df), 1, 'Winter')\n",
    "fig.savefig(results_dir + 'bidding-outcomes.png')"
   ]
  },
  {
   "cell_type": "markdown",
   "metadata": {},
   "source": [
    "## Q12. Countries that hosted Olympics"
   ]
  },
  {
   "cell_type": "code",
   "execution_count": null,
   "metadata": {
    "scrolled": false,
    "pycharm": {
     "is_executing": true
    }
   },
   "outputs": [],
   "source": [
    "s_count = summer_olympics_data.groupby(['country_code'])['year'].count() \n",
    "w_count = winter_olympics_data.groupby(['country_name'])['year'].count()\n",
    "total_olympics_count = pd.merge(s_count, w_count, how='outer', right_index=True, left_index=True).fillna(0).astype(int)\n",
    "\n",
    "total_olympics_count = total_olympics_count.rename({\"year_x\":\"summer_count\", \"year_y\":\"winter_count\"}, axis='columns')\n",
    "total_olympics_count['total'] = total_olympics_count['summer_count'] + total_olympics_count['winter_count']\n",
    "total_olympics_count['Country_Name'] = total_olympics_count.index.map(lambda x : country_codes[country_codes['country_code'] == x]['country_name'])\n",
    "total_olympics_count.rename(index=alias_names,inplace=True)\n",
    "\n",
    "fig = px.choropleth(total_olympics_count, locations=total_olympics_count.index,\n",
    "                    color=\"total\",\n",
    "                    hover_name=\"Country_Name\",\n",
    "                    color_continuous_scale=px.colors.sequential.Plasma)\n",
    "fig.update_layout(\n",
    "    autosize=True,\n",
    "    width=900,\n",
    "    height=500,\n",
    "    title_text = 'Total Number of Olympics conducted by each country over all the years',\n",
    ")\n",
    "fig.write_html(results_dir + \"olympics-geography.html\")\n",
    "fig.show()"
   ]
  },
  {
   "cell_type": "markdown",
   "metadata": {},
   "source": [
    "## Q13. Cost per event  and Cost per athelete"
   ]
  },
  {
   "cell_type": "code",
   "execution_count": null,
   "metadata": {
    "pycharm": {
     "is_executing": true
    }
   },
   "outputs": [],
   "source": [
    "fig, axes = plt.subplots(1,2)\n",
    "\n",
    "new_cols = ['Cost per event, Millions', 'Cost per athlete, Millions']\n",
    "\n",
    "olympics_costs[new_cols[0]] = (olympics_costs[col_name[0]] * 1000) / olympics_costs['Events'] \n",
    "olympics_costs[new_cols[1]] = (olympics_costs[col_name[0]] * 1000) / olympics_costs['Athletes'] \n",
    "\n",
    "def plot_chart(inputdf, axis, text, col_name):\n",
    "    sns.lineplot(data=inputdf, x=\"Year\", y=col_name, hue=\"Type\", marker='o', ax=axes[axis])\n",
    "    axes[axis].set_ylabel(col_name)\n",
    "    axes[axis].set_xlabel('Year')\n",
    "    axes[axis].set_title(text)\n",
    "    axes[axis].legend()\n",
    "    fig.show()\n",
    "\n",
    "plot_chart(olympics_costs, 0, 'Time Series - Cost per Event', new_cols[0])\n",
    "plot_chart(olympics_costs, 1, 'Time Series - Cost per Athlete', new_cols[1])"
   ]
  },
  {
   "cell_type": "markdown",
   "metadata": {},
   "source": [
    "## Q14. Unestimated Costs of Olympic games"
   ]
  },
  {
   "cell_type": "code",
   "execution_count": null,
   "metadata": {
    "pycharm": {
     "is_executing": true
    }
   },
   "outputs": [],
   "source": [
    "cost_overrun_df = olympics_costs.dropna(subset=[col_name[1]])\n",
    "fig = px.scatter(cost_overrun_df, x=\"Games\", y=\"Year\", size=col_name[1],\n",
    "                 hover_name=col_name[1], size_max=60, title='Cost Overrun(%) in Olympic games for different years.')\n",
    "fig.show()"
   ]
  },
  {
   "cell_type": "markdown",
   "metadata": {},
   "source": [
    "## Q15. Total Medals won by the host countries till now in Olympic games"
   ]
  },
  {
   "cell_type": "code",
   "execution_count": null,
   "metadata": {
    "pycharm": {
     "is_executing": true
    }
   },
   "outputs": [],
   "source": [
    "medal_data = medal_data.replace(alias_names)\n",
    "filtered_data = medal_data[medal_data['country_code'].isin(countries_set)]\\\n",
    "                                            .drop_duplicates(subset=['country_code']).nlargest(10, 'total')\n",
    "fig = px.bar_polar(filtered_data, r=\"total\",\n",
    "                   theta='country', color='total',\n",
    "                   title='Top 10 olympic host countries in total medal count for all the years.')\n",
    "fig.show()"
   ]
  },
  {
   "cell_type": "markdown",
   "metadata": {},
   "source": [
    "# Economic Variable Analysis"
   ]
  },
  {
   "cell_type": "code",
   "execution_count": null,
   "metadata": {},
   "outputs": [],
   "source": [
    "summer_host_info = summer_olympics_data.groupby('country_code')['year'].apply(list).reset_index().explode('year')\n",
    "winter_host_info = winter_olympics_data.groupby('country_code')['year'].apply(list).reset_index().explode('year')\n",
    "\n",
    "summer_host_info = summer_host_info[(summer_host_info['year']>=1964) & (summer_host_info['year'] <= 2016)]\n",
    "winter_host_info = winter_host_info[(winter_host_info['year']>=1964) & (winter_host_info['year'] <= 2016)]"
   ]
  },
  {
   "cell_type": "code",
   "execution_count": null,
   "metadata": {},
   "outputs": [],
   "source": [
    "# Helper Methods\n",
    "def plot_indicator_change(df, title, game_type):\n",
    "    x_value = df['Country'] + \"-\" + df['Year'].astype(str)\n",
    "    fig = go.Figure(data=[\n",
    "        go.Bar(name='Before', x=x_value, y=df['Before'].values),\n",
    "        go.Bar(name='After', x=x_value, y=df['After'].values),\n",
    "    ])\n",
    "    fig.update_layout(barmode='group',width=900, height=500, title_text ='Change in {} value - Before and after hosting - {} Olympics'.format(title, game_type))\n",
    "    fig.show()\n",
    "\n",
    "    \n",
    "# Main logic\n",
    "def process_economic_variables(inputdf, gtype):\n",
    "    \n",
    "    cols = ['Year', 'Country', 'Before' ,'After']\n",
    "    \n",
    "    for key, value in economic_variables.items():\n",
    "        eco_df = wb.data.DataFrame(key)\n",
    "        eco_df = eco_df.rename(columns=lambda x: int(x.replace('YR', '')))\n",
    "        eco_df = eco_df[year_list]\n",
    "        eco_df = eco_df.transpose().fillna(method='backfill').fillna(method='ffill').transpose()\n",
    "        \n",
    "        change_df = pd.DataFrame(columns = cols)\n",
    "        row_data = {cols[0]:None, cols[1]:None, cols[2]:None, cols[3]:None}\n",
    "        \n",
    "        for row in inputdf.itertuples(index=False):\n",
    "            row_data[cols[0]] = row.year\n",
    "            row_data[cols[1]] = row.country_code\n",
    "            row_data[cols[2]] = eco_df.loc[row.country_code, [i for i in range(row.year-4, row.year)]].mean()\n",
    "            row_data[cols[3]] = eco_df.loc[row.country_code, [i for i in range(row.year, row.year+5)]].mean()\n",
    "            change_df = change_df.append(row_data, ignore_index=True)\n",
    "\n",
    "        change_df.dropna(inplace=True)\n",
    "        plot_indicator_change(change_df, value, gtype)\n",
    "\n",
    "process_economic_variables(summer_host_info, 'Summer')\n",
    "process_economic_variables(winter_host_info, 'Winter')"
   ]
  }
 ],
 "metadata": {
  "kernelspec": {
   "display_name": "tf-gpu-cuda",
   "language": "python",
   "name": "tf-gpu-cuda"
  },
  "language_info": {
   "codemirror_mode": {
    "name": "ipython",
    "version": 3
   },
   "file_extension": ".py",
   "mimetype": "text/x-python",
   "name": "python",
   "nbconvert_exporter": "python",
   "pygments_lexer": "ipython3",
   "version": "3.7.12"
  }
 },
 "nbformat": 4,
 "nbformat_minor": 4
}